{
 "cells": [
  {
   "cell_type": "code",
   "execution_count": 2,
   "metadata": {},
   "outputs": [],
   "source": [
    "import json\n",
    "import sys\n",
    "import nltk\n",
    "import pandas as pd\n",
    "import re\n",
    "import string\n",
    "import numpy as np\n",
    "from nltk.corpus import stopwords\n",
    "from sklearn.feature_extraction.text import TfidfVectorizer\n",
    "from sklearn.model_selection import train_test_split\n",
    "from sklearn import preprocessing\n",
    "from sklearn.metrics import precision_score, recall_score, accuracy_score\n",
    "from sklearn.ensemble import RandomForestClassifier\n",
    "from sklearn.metrics.pairwise import cosine_similarity\n"
   ]
  },
  {
   "cell_type": "code",
   "execution_count": 3,
   "metadata": {},
   "outputs": [],
   "source": [
    "def dataRead(inputFile):\n",
    "    dataFrame = pd.read_json(inputFile)\n",
    "    return dataFrame"
   ]
  },
  {
   "cell_type": "code",
   "execution_count": 4,
   "metadata": {},
   "outputs": [],
   "source": [
    "def dataProcessing(dataFrame, input):\n",
    "    exclude = set(string.punctuation)\n",
    "    stop_words = set(stopwords.words(\"english\"))\n",
    "    ingredientList = []\n",
    "    dataList = []\n",
    "    for i in dataFrame['ingredients']:\n",
    "        i = \" \".join(i)\n",
    "        dataList.append(i)\n",
    "    input = \" \".join(input)\n",
    "    dataList.insert(0, input)\n",
    "\n",
    "    for data in dataList:\n",
    "        data = data.lower()\n",
    "        data = re.sub(r\"(\\d)\", \"\", data)\n",
    "        token = nltk.word_tokenize(data)\n",
    "        mytokens = \" \".join([word for word in token if word not in exclude and word not in stop_words])\n",
    "        ingredientList.append(mytokens)\n",
    "    return ingredientList\n"
   ]
  },
  {
   "cell_type": "code",
   "execution_count": 5,
   "metadata": {},
   "outputs": [],
   "source": [
    "def vectorization(data):\n",
    "    vectorizer = TfidfVectorizer(stop_words='english')\n",
    "    vector = vectorizer.fit_transform(data)\n",
    "    inputMatrix = vector[0]\n",
    "    dataMatrix = vector[1:]\n",
    "    print(\"Vectorization Completed\")\n",
    "    return inputMatrix, dataMatrix"
   ]
  },
  {
   "cell_type": "code",
   "execution_count": 6,
   "metadata": {},
   "outputs": [],
   "source": [
    "def randomForestModel(inputMatrix, dataMatrix, dataFrame):\n",
    "    LabelEncoder = preprocessing.LabelEncoder()\n",
    "    LabelEncoder.fit(dataFrame['cuisine'])\n",
    "    X = dataMatrix\n",
    "    Y = LabelEncoder.transform(dataFrame['cuisine'])\n",
    "\n",
    "    x_train, x_test, y_train, y_test = train_test_split(dataMatrix, Y, test_size=0.3)\n",
    "    model = RandomForestClassifier(n_estimators = 100, criterion = 'entropy', random_state = 0)\n",
    "    model.fit(x_train, y_train)\n",
    "    y_pred = model.predict(x_test)\n",
    "    print(\"Model Accuracy :\",accuracy_score(y_test, y_pred) * 100)\n",
    "\n",
    "    inputPredict = model.predict(inputMatrix)\n",
    "    cuisine = LabelEncoder.inverse_transform(inputPredict)\n",
    "    print(\"Cuisine: \",cuisine)\n"
   ]
  },
  {
   "cell_type": "code",
   "execution_count": 7,
   "metadata": {},
   "outputs": [],
   "source": [
    "def closestRecipe(inputMatrix, dataMatrix, dataFrame):\n",
    "    scores = cosine_similarity(inputMatrix,dataMatrix).transpose()\n",
    "    dataFrame['Scores'] = scores\n",
    "    closeRecipe = dataFrame[['id','Scores']].nlargest(10, ['Scores'])\n",
    "    print(\"Closest 10 Recipes \\n\",closeRecipe)\n"
   ]
  },
  {
   "cell_type": "code",
   "execution_count": 8,
   "metadata": {},
   "outputs": [
    {
     "name": "stdout",
     "output_type": "stream",
     "text": [
      "Vectorization Completed\n",
      "Model Accuracy : 72.04391184111289\n",
      "Cuisine:  ['mexican']\n",
      "Closest 10 Recipes \n",
      "           id    Scores\n",
      "28497   8498  0.415908\n",
      "18138   9944  0.405546\n",
      "3180   49233  0.352461\n",
      "32001  13474  0.352267\n",
      "37987  30333  0.348387\n",
      "13011  30881  0.333593\n",
      "20750  18184  0.332843\n",
      "22917  47160  0.324110\n",
      "19220  40583  0.318538\n",
      "12759  44122  0.303510\n"
     ]
    }
   ],
   "source": [
    "input = ['paprika', 'banana','rice krispies','plain flour', 'ground pepper', 'salt', 'tomatoes']\n",
    "inputFile = \"yummly.json\"\n",
    "dataFrame = dataRead(inputFile)\n",
    "data = dataProcessing(dataFrame, input)\n",
    "inputMatrix, dataMatrix = vectorization(data)\n",
    "randomForestModel(inputMatrix, dataMatrix, dataFrame)\n",
    "closestRecipe(inputMatrix, dataMatrix, dataFrame)"
   ]
  },
  {
   "cell_type": "code",
   "execution_count": null,
   "metadata": {},
   "outputs": [],
   "source": []
  }
 ],
 "metadata": {
  "kernelspec": {
   "display_name": "Python 3",
   "language": "python",
   "name": "python3"
  },
  "language_info": {
   "codemirror_mode": {
    "name": "ipython",
    "version": 3
   },
   "file_extension": ".py",
   "mimetype": "text/x-python",
   "name": "python",
   "nbconvert_exporter": "python",
   "pygments_lexer": "ipython3",
   "version": "3.7.4"
  }
 },
 "nbformat": 4,
 "nbformat_minor": 2
}
